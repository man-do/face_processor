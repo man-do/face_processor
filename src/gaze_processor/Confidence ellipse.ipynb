{
 "cells": [
  {
   "cell_type": "code",
   "execution_count": 18,
   "id": "cbad60a7",
   "metadata": {},
   "outputs": [],
   "source": [
    "import numpy as np\n",
    "import matplotlib.pyplot as plt\n",
    "from matplotlib.patches import Ellipse\n",
    "import matplotlib.transforms as transforms\n",
    "from numpy.linalg import eig"
   ]
  },
  {
   "cell_type": "code",
   "execution_count": 2,
   "id": "a3167db5",
   "metadata": {},
   "outputs": [],
   "source": [
    "A = np.array([51, 51,50,51, 52,53])\n",
    "B = np.array([51, 51,51,50, 54,53])"
   ]
  },
  {
   "cell_type": "code",
   "execution_count": 21,
   "id": "7866f5c2",
   "metadata": {},
   "outputs": [
    {
     "data": {
      "text/plain": [
       "[<matplotlib.lines.Line2D at 0x7f8bbc8e2c70>]"
      ]
     },
     "execution_count": 21,
     "metadata": {},
     "output_type": "execute_result"
    },
    {
     "data": {
      "image/png": "[encoded data removed]",
      "text/plain": [
       "<Figure size 432x288 with 1 Axes>"
      ]
     },
     "metadata": {
      "needs_background": "light"
     },
     "output_type": "display_data"
    }
   ],
   "source": [
    "plt.plot(A,B, 'ob')"
   ]
  },
  {
   "cell_type": "code",
   "execution_count": 4,
   "id": "123a18cc",
   "metadata": {},
   "outputs": [],
   "source": [
    "data = np.array([A,B])"
   ]
  },
  {
   "cell_type": "code",
   "execution_count": 64,
   "id": "aadea671",
   "metadata": {},
   "outputs": [
    {
     "data": {
      "text/plain": [
       "array([[0.88888889, 0.94444444],\n",
       "       [0.94444444, 1.88888889]])"
      ]
     },
     "execution_count": 64,
     "metadata": {},
     "output_type": "execute_result"
    }
   ],
   "source": [
    "mat = np.cov(data, bias=True)\n",
    "mat"
   ]
  },
  {
   "cell_type": "code",
   "execution_count": 58,
   "id": "f4e4b554",
   "metadata": {},
   "outputs": [
    {
     "data": {
      "text/plain": [
       "array([51.33333333, 51.66666667])"
      ]
     },
     "execution_count": 58,
     "metadata": {},
     "output_type": "execute_result"
    }
   ],
   "source": [
    "center = np.mean(data, axis=1)\n",
    "center"
   ]
  },
  {
   "cell_type": "code",
   "execution_count": 59,
   "id": "8379c7fa",
   "metadata": {},
   "outputs": [],
   "source": [
    "w, v = eig(mat)"
   ]
  },
  {
   "cell_type": "code",
   "execution_count": 61,
   "id": "a5556e17",
   "metadata": {},
   "outputs": [
    {
     "data": {
      "text/plain": [
       "array([[51.33333333, 51.66666667],\n",
       "       [51.33333333, 51.66666667],\n",
       "       [51.33333333, 51.66666667],\n",
       "       [51.33333333, 51.66666667]])"
      ]
     },
     "execution_count": 61,
     "metadata": {},
     "output_type": "execute_result"
    },
    {
     "data": {
      "image/png": "[encoded data removed]",
      "text/plain": [
       "<Figure size 432x288 with 1 Axes>"
      ]
     },
     "metadata": {
      "needs_background": "light"
     },
     "output_type": "display_data"
    }
   ],
   "source": [
    "center = np.vstack((center, center))\n",
    "\n",
    "plt.quiver(center[:,0], center[:,1], v[0,:], v[1,:], color=['r','b'])\n",
    "plt.plot(A,B, 'ob')\n",
    "center"
   ]
  },
  {
   "cell_type": "code",
   "execution_count": 39,
   "id": "a5d28733",
   "metadata": {},
   "outputs": [
    {
     "data": {
      "text/plain": [
       "array([0.32025644, 2.45752134])"
      ]
     },
     "execution_count": 39,
     "metadata": {},
     "output_type": "execute_result"
    }
   ],
   "source": [
    "w"
   ]
  },
  {
   "cell_type": "code",
   "execution_count": 40,
   "id": "45e107cb",
   "metadata": {},
   "outputs": [
    {
     "data": {
      "text/plain": [
       "array([[-0.85670524, -0.5158063 ],\n",
       "       [ 0.5158063 , -0.85670524]])"
      ]
     },
     "execution_count": 40,
     "metadata": {},
     "output_type": "execute_result"
    }
   ],
   "source": [
    "v"
   ]
  },
  {
   "cell_type": "code",
   "execution_count": 14,
   "id": "7f16a67e",
   "metadata": {},
   "outputs": [
    {
     "data": {
      "text/plain": [
       "<Figure size 432x288 with 0 Axes>"
      ]
     },
     "metadata": {},
     "output_type": "display_data"
    }
   ],
   "source": [
    "fig = plt.figure()"
   ]
  },
  {
   "cell_type": "code",
   "execution_count": 15,
   "id": "53cc16f7",
   "metadata": {},
   "outputs": [],
   "source": [
    "ax=fig.add_axes([0,0,1,1])"
   ]
  },
  {
   "cell_type": "code",
   "execution_count": 16,
   "id": "47da7724",
   "metadata": {},
   "outputs": [],
   "source": [
    "line = ax.plot(A, B, 'o')"
   ]
  },
  {
   "cell_type": "code",
   "execution_count": 17,
   "id": "7a52090c",
   "metadata": {},
   "outputs": [],
   "source": [
    "plt.show()"
   ]
  },
  {
   "cell_type": "code",
   "execution_count": null,
   "id": "7daf5415",
   "metadata": {},
   "outputs": [],
   "source": []
  },
  {
   "cell_type": "code",
   "execution_count": null,
   "id": "d2baa945",
   "metadata": {},
   "outputs": [],
   "source": []
  },
  {
   "cell_type": "code",
   "execution_count": null,
   "id": "6d8a8ed3",
   "metadata": {},
   "outputs": [],
   "source": []
  },
  {
   "cell_type": "code",
   "execution_count": null,
   "id": "7bdb8b52",
   "metadata": {},
   "outputs": [],
   "source": []
  }
 ],
 "metadata": {
  "kernelspec": {
   "display_name": "Python 3 (ipykernel)",
   "language": "python",
   "name": "python3"
  },
  "language_info": {
   "codemirror_mode": {
    "name": "ipython",
    "version": 3
   },
   "file_extension": ".py",
   "mimetype": "text/x-python",
   "name": "python",
   "nbconvert_exporter": "python",
   "pygments_lexer": "ipython3",
   "version": "3.8.10"
  }
 },
 "nbformat": 4,
 "nbformat_minor": 5
}
